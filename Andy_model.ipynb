{
  "metadata": {
    "_change_revision": 0,
    "_is_fork": false,
    "kernelspec": {
      "display_name": "Python 3",
      "language": "python",
      "name": "python3"
    },
    "language_info": {
      "name": "python",
      "version": "3.6.1",
      "mimetype": "text/x-python",
      "codemirror_mode": {
        "name": "ipython",
        "version": 3
      },
      "pygments_lexer": "ipython3",
      "nbconvert_exporter": "python",
      "file_extension": ".py"
    }
  },
  "cells": [
    {
      "metadata": {
        "_uuid": "0446e2251ee0d6771801998f8d3314ba30c3b20e",
        "_cell_guid": "2bf58203-bdfb-32e5-5a81-97f4ec4a213d"
      },
      "execution_count": null,
      "source": "Jason ([here][1]) and SaeedAzarshab ([here][2]) have popularized a script that uses housing price index data that luckyzhou (see [here][3]) found on Global Property Guide.  But since it includes data from the test period, I'm pretty sure it qualifies as \"external data...substantially related to the ground truth of the competition.\"  However, if you're willing to use magic numbers, you can get the same exact result without explicitly referencing the price index during the test period.  (This is because, in the version that got copied, luckyzhou effectively ignores the test period index data except for the last data point, which is just one number and presumably no more suspect than any other magic number.)\n\nSo this notebook purges all the test-period index data and just uses a magic number.  And the number is pretty arbitrary, since there are magic numbers all over the place, including elsewhere in the script.  If you decide magic numbers are OK in general, I don't think you can object to this one just because of its history.  It could just as well have been produced by trial and error (and indeed, you can probably get a better one by trial and error) rather than being taken from ground truth-related data.\n\n\n  [1]: https://www.kaggle.com/jasonpeng/latest-iteration-in-this-silly-game\n  [2]: https://www.kaggle.com/saeedt2977/latest-iteration-in-this-silly-game-lb-0-31039\n  [3]: https://www.kaggle.com/luckyzhou/lzhou-test/comments",
      "outputs": [],
      "cell_type": "markdown"
    },
    {
      "source": "import numpy as np\nimport pandas as pd\nfrom sklearn import model_selection, preprocessing\nimport xgboost as xgb",
      "metadata": {
        "_uuid": "38f70e50296779d2b914219a1ba0b209af46b79a",
        "_cell_guid": "2f8b5369-4046-0cf2-d25f-cf59bc8ca7c6",
        "trusted": false
      },
      "execution_count": null,
      "outputs": [],
      "cell_type": "code"
    },
    {
      "metadata": {
        "_uuid": "ee0f55750b8eaa6b9064edcb07db9687f24f43d3",
        "_cell_guid": "3fa09d9a-a3d9-cae7-0e1b-eba523c9ab7c"
      },
      "execution_count": null,
      "source": "## First Model (the one that I've plugged up)",
      "outputs": [],
      "cell_type": "markdown"
    },
    {
      "metadata": {
        "_uuid": "ab3c0c70d0a21688da97ff791b7464d3f33e8792",
        "_cell_guid": "f3643117-d9aa-1f36-00cd-990d1945febc"
      },
      "execution_count": null,
      "source": "#### Initial set up",
      "outputs": [],
      "cell_type": "markdown"
    },
    {
      "source": "#load files\ntrain = pd.read_csv('../input/train.csv', parse_dates=['timestamp'])\ntest = pd.read_csv('../input/test.csv', parse_dates=['timestamp'])\nid_test = test.id\n\n#clean data\nbad_index = train[train.life_sq > train.full_sq].index\ntrain.loc[bad_index, \"life_sq\"] = np.NaN\nequal_index = [601,1896,2791]\ntest.loc[equal_index, \"life_sq\"] = test.loc[equal_index, \"full_sq\"]\nbad_index = test[test.life_sq > test.full_sq].index\ntest.loc[bad_index, \"life_sq\"] = np.NaN\nbad_index = train[train.life_sq < 5].index\ntrain.loc[bad_index, \"life_sq\"] = np.NaN\nbad_index = test[test.life_sq < 5].index\ntest.loc[bad_index, \"life_sq\"] = np.NaN\nbad_index = train[train.full_sq < 5].index\ntrain.loc[bad_index, \"full_sq\"] = np.NaN\nbad_index = test[test.full_sq < 5].index\ntest.loc[bad_index, \"full_sq\"] = np.NaN\nkitch_is_build_year = [13117]\ntrain.loc[kitch_is_build_year, \"build_year\"] = train.loc[kitch_is_build_year, \"kitch_sq\"]\nbad_index = train[train.kitch_sq >= train.life_sq].index\ntrain.loc[bad_index, \"kitch_sq\"] = np.NaN\nbad_index = test[test.kitch_sq >= test.life_sq].index\ntest.loc[bad_index, \"kitch_sq\"] = np.NaN\nbad_index = train[(train.kitch_sq == 0).values + (train.kitch_sq == 1).values].index\ntrain.loc[bad_index, \"kitch_sq\"] = np.NaN\nbad_index = test[(test.kitch_sq == 0).values + (test.kitch_sq == 1).values].index\ntest.loc[bad_index, \"kitch_sq\"] = np.NaN\nbad_index = train[(train.full_sq > 210) & (train.life_sq / train.full_sq < 0.3)].index\ntrain.loc[bad_index, \"full_sq\"] = np.NaN\nbad_index = test[(test.full_sq > 150) & (test.life_sq / test.full_sq < 0.3)].index\ntest.loc[bad_index, \"full_sq\"] = np.NaN\nbad_index = train[train.life_sq > 300].index\ntrain.loc[bad_index, [\"life_sq\", \"full_sq\"]] = np.NaN\nbad_index = test[test.life_sq > 200].index\ntest.loc[bad_index, [\"life_sq\", \"full_sq\"]] = np.NaN\ntrain.product_type.value_counts(normalize= True)\ntest.product_type.value_counts(normalize= True)\nbad_index = train[train.build_year < 1500].index\ntrain.loc[bad_index, \"build_year\"] = np.NaN\nbad_index = test[test.build_year < 1500].index\ntest.loc[bad_index, \"build_year\"] = np.NaN\nbad_index = train[train.num_room == 0].index\ntrain.loc[bad_index, \"num_room\"] = np.NaN\nbad_index = test[test.num_room == 0].index\ntest.loc[bad_index, \"num_room\"] = np.NaN\nbad_index = [10076, 11621, 17764, 19390, 24007, 26713, 29172]\ntrain.loc[bad_index, \"num_room\"] = np.NaN\nbad_index = [3174, 7313]\ntest.loc[bad_index, \"num_room\"] = np.NaN\nbad_index = train[(train.floor == 0).values * (train.max_floor == 0).values].index\ntrain.loc[bad_index, [\"max_floor\", \"floor\"]] = np.NaN\nbad_index = train[train.floor == 0].index\ntrain.loc[bad_index, \"floor\"] = np.NaN\nbad_index = train[train.max_floor == 0].index\ntrain.loc[bad_index, \"max_floor\"] = np.NaN\nbad_index = test[test.max_floor == 0].index\ntest.loc[bad_index, \"max_floor\"] = np.NaN\nbad_index = train[train.floor > train.max_floor].index\ntrain.loc[bad_index, \"max_floor\"] = np.NaN\nbad_index = test[test.floor > test.max_floor].index\ntest.loc[bad_index, \"max_floor\"] = np.NaN\ntrain.floor.describe(percentiles= [0.9999])\nbad_index = [23584]\ntrain.loc[bad_index, \"floor\"] = np.NaN\ntrain.material.value_counts()\ntest.material.value_counts()\ntrain.state.value_counts()\nbad_index = train[train.state == 33].index\ntrain.loc[bad_index, \"state\"] = np.NaN\ntest.state.value_counts()\n\n# brings error down a lot by removing extreme price per sqm\ntrain.loc[train.full_sq == 0, 'full_sq'] = 50\ntrain = train[train.price_doc/train.full_sq <= 600000]\ntrain = train[train.price_doc/train.full_sq >= 10000]\n\n# Add month-year\nmonth_year = (train.timestamp.dt.month + train.timestamp.dt.year * 100)\nmonth_year_cnt_map = month_year.value_counts().to_dict()\ntrain['month_year_cnt'] = month_year.map(month_year_cnt_map)\n\nmonth_year = (test.timestamp.dt.month + test.timestamp.dt.year * 100)\nmonth_year_cnt_map = month_year.value_counts().to_dict()\ntest['month_year_cnt'] = month_year.map(month_year_cnt_map)\n\n# Add week-year count\nweek_year = (train.timestamp.dt.weekofyear + train.timestamp.dt.year * 100)\nweek_year_cnt_map = week_year.value_counts().to_dict()\ntrain['week_year_cnt'] = week_year.map(week_year_cnt_map)\n\nweek_year = (test.timestamp.dt.weekofyear + test.timestamp.dt.year * 100)\nweek_year_cnt_map = week_year.value_counts().to_dict()\ntest['week_year_cnt'] = week_year.map(week_year_cnt_map)\n\n# Add month and day-of-week\ntrain['month'] = train.timestamp.dt.month\ntrain['dow'] = train.timestamp.dt.dayofweek\n\ntest['month'] = test.timestamp.dt.month\ntest['dow'] = test.timestamp.dt.dayofweek\n\n# Other feature engineering\ntrain['rel_floor'] = train['floor'] / train['max_floor'].astype(float)\ntrain['rel_kitch_sq'] = train['kitch_sq'] / train['full_sq'].astype(float)\n\ntest['rel_floor'] = test['floor'] / test['max_floor'].astype(float)\ntest['rel_kitch_sq'] = test['kitch_sq'] / test['full_sq'].astype(float)\n\ntrain.apartment_name=train.sub_area + train['metro_km_avto'].astype(str)\ntest.apartment_name=test.sub_area + train['metro_km_avto'].astype(str)\n\ntrain['room_size'] = train['life_sq'] / train['num_room'].astype(float)\ntest['room_size'] = test['life_sq'] / test['num_room'].astype(float)",
      "metadata": {
        "_uuid": "b35181d4c0843c2195682817866574f8021e99f3",
        "_cell_guid": "6ca27a06-8378-e0c2-6d50-3507bb1c9f40",
        "trusted": false
      },
      "execution_count": null,
      "outputs": [],
      "cell_type": "code"
    },
    {
      "metadata": {
        "_uuid": "e65695bd80944efe240ead1cd63b389c036cfe27",
        "_cell_guid": "7ea4a474-66f5-20f3-83e6-9249f4c78d1e"
      },
      "execution_count": null,
      "source": "#### Normalize by the housing price index",
      "outputs": [],
      "cell_type": "markdown"
    },
    {
      "source": "# Aggreagte house price data derived from \n# http://www.globalpropertyguide.com/real-estate-house-prices/R#russia\n# by luckyzhou\n# See https://www.kaggle.com/luckyzhou/lzhou-test/comments\n\nrate_2015_q2 = 1\nrate_2015_q1 = rate_2015_q2 / .9932\nrate_2014_q4 = rate_2015_q1 / 1.0112\nrate_2014_q3 = rate_2014_q4 / 1.0169\nrate_2014_q2 = rate_2014_q3 / 1.0086\nrate_2014_q1 = rate_2014_q2 / 1.0126\nrate_2013_q4 = rate_2014_q1 / 0.9902\nrate_2013_q3 = rate_2013_q4 / 1.0041\nrate_2013_q2 = rate_2013_q3 / 1.0044\nrate_2013_q1 = rate_2013_q2 / 1.0104  # This is 1.002 (relative to mult), close to 1:\nrate_2012_q4 = rate_2013_q1 / 0.9832  #     maybe use 2013q1 as a base quarter and get rid of mult?\nrate_2012_q3 = rate_2012_q4 / 1.0277\nrate_2012_q2 = rate_2012_q3 / 1.0279\nrate_2012_q1 = rate_2012_q2 / 1.0279\nrate_2011_q4 = rate_2012_q1 / 1.076\nrate_2011_q3 = rate_2011_q4 / 1.0236\nrate_2011_q2 = rate_2011_q3 / 1\nrate_2011_q1 = rate_2011_q2 / 1.011\n\n\n# train 2015\ntrain['average_q_price'] = 1\n\ntrain_2015_q2_index = train.loc[train['timestamp'].dt.year == 2015].loc[train['timestamp'].dt.month >= 4].loc[train['timestamp'].dt.month < 7].index\ntrain.loc[train_2015_q2_index, 'average_q_price'] = rate_2015_q2\n\ntrain_2015_q1_index = train.loc[train['timestamp'].dt.year == 2015].loc[train['timestamp'].dt.month >= 1].loc[train['timestamp'].dt.month < 4].index\ntrain.loc[train_2015_q1_index, 'average_q_price'] = rate_2015_q1\n\n\n# train 2014\ntrain_2014_q4_index = train.loc[train['timestamp'].dt.year == 2014].loc[train['timestamp'].dt.month >= 10].loc[train['timestamp'].dt.month <= 12].index\ntrain.loc[train_2014_q4_index, 'average_q_price'] = rate_2014_q4\n\ntrain_2014_q3_index = train.loc[train['timestamp'].dt.year == 2014].loc[train['timestamp'].dt.month >= 7].loc[train['timestamp'].dt.month < 10].index\ntrain.loc[train_2014_q3_index, 'average_q_price'] = rate_2014_q3\n\ntrain_2014_q2_index = train.loc[train['timestamp'].dt.year == 2014].loc[train['timestamp'].dt.month >= 4].loc[train['timestamp'].dt.month < 7].index\ntrain.loc[train_2014_q2_index, 'average_q_price'] = rate_2014_q2\n\ntrain_2014_q1_index = train.loc[train['timestamp'].dt.year == 2014].loc[train['timestamp'].dt.month >= 1].loc[train['timestamp'].dt.month < 4].index\ntrain.loc[train_2014_q1_index, 'average_q_price'] = rate_2014_q1\n\n\n# train 2013\ntrain_2013_q4_index = train.loc[train['timestamp'].dt.year == 2013].loc[train['timestamp'].dt.month >= 10].loc[train['timestamp'].dt.month <= 12].index\ntrain.loc[train_2013_q4_index, 'average_q_price'] = rate_2013_q4\n\ntrain_2013_q3_index = train.loc[train['timestamp'].dt.year == 2013].loc[train['timestamp'].dt.month >= 7].loc[train['timestamp'].dt.month < 10].index\ntrain.loc[train_2013_q3_index, 'average_q_price'] = rate_2013_q3\n\ntrain_2013_q2_index = train.loc[train['timestamp'].dt.year == 2013].loc[train['timestamp'].dt.month >= 4].loc[train['timestamp'].dt.month < 7].index\ntrain.loc[train_2013_q2_index, 'average_q_price'] = rate_2013_q2\n\ntrain_2013_q1_index = train.loc[train['timestamp'].dt.year == 2013].loc[train['timestamp'].dt.month >= 1].loc[train['timestamp'].dt.month < 4].index\ntrain.loc[train_2013_q1_index, 'average_q_price'] = rate_2013_q1\n\n\n# train 2012\ntrain_2012_q4_index = train.loc[train['timestamp'].dt.year == 2012].loc[train['timestamp'].dt.month >= 10].loc[train['timestamp'].dt.month <= 12].index\ntrain.loc[train_2012_q4_index, 'average_q_price'] = rate_2012_q4\n\ntrain_2012_q3_index = train.loc[train['timestamp'].dt.year == 2012].loc[train['timestamp'].dt.month >= 7].loc[train['timestamp'].dt.month < 10].index\ntrain.loc[train_2012_q3_index, 'average_q_price'] = rate_2012_q3\n\ntrain_2012_q2_index = train.loc[train['timestamp'].dt.year == 2012].loc[train['timestamp'].dt.month >= 4].loc[train['timestamp'].dt.month < 7].index\ntrain.loc[train_2012_q2_index, 'average_q_price'] = rate_2012_q2\n\ntrain_2012_q1_index = train.loc[train['timestamp'].dt.year == 2012].loc[train['timestamp'].dt.month >= 1].loc[train['timestamp'].dt.month < 4].index\ntrain.loc[train_2012_q1_index, 'average_q_price'] = rate_2012_q1\n\n\n# train 2011\ntrain_2011_q4_index = train.loc[train['timestamp'].dt.year == 2011].loc[train['timestamp'].dt.month >= 10].loc[train['timestamp'].dt.month <= 12].index\ntrain.loc[train_2011_q4_index, 'average_q_price'] = rate_2011_q4\n\ntrain_2011_q3_index = train.loc[train['timestamp'].dt.year == 2011].loc[train['timestamp'].dt.month >= 7].loc[train['timestamp'].dt.month < 10].index\ntrain.loc[train_2011_q3_index, 'average_q_price'] = rate_2011_q3\n\ntrain_2011_q2_index = train.loc[train['timestamp'].dt.year == 2011].loc[train['timestamp'].dt.month >= 4].loc[train['timestamp'].dt.month < 7].index\ntrain.loc[train_2011_q2_index, 'average_q_price'] = rate_2011_q2\n\ntrain_2011_q1_index = train.loc[train['timestamp'].dt.year == 2011].loc[train['timestamp'].dt.month >= 1].loc[train['timestamp'].dt.month < 4].index\ntrain.loc[train_2011_q1_index, 'average_q_price'] = rate_2011_q1\n\ntrain['price_doc'] = train['price_doc'] * train['average_q_price']\n\n",
      "metadata": {
        "_uuid": "2ca894978b36507b0e0137511c87d0b2517a2310",
        "_cell_guid": "9577247e-d01d-7384-7d01-e8d6cd7bb272",
        "trusted": false
      },
      "execution_count": null,
      "outputs": [],
      "cell_type": "code"
    },
    {
      "metadata": {
        "_uuid": "d3031b03a186f2f4a8648592bf935d6402331379",
        "_cell_guid": "17d8f828-0b70-4317-65e7-1dca102e6aa9"
      },
      "execution_count": null,
      "source": "#### Apply a multiplier",
      "outputs": [],
      "cell_type": "markdown"
    },
    {
      "source": "mult = 1.054880504\ntrain['price_doc'] = train['price_doc'] * mult\ny_train = train[\"price_doc\"]",
      "metadata": {
        "_uuid": "69147f8e61bdb7f7cebbf504f320828e4b7008c6",
        "_cell_guid": "82197ca6-488c-1d66-8345-63d571377eae",
        "trusted": false
      },
      "execution_count": null,
      "outputs": [],
      "cell_type": "code"
    },
    {
      "metadata": {
        "_uuid": "5b1030a852699f06660b45177e04f8de90ab1e26",
        "_cell_guid": "8319c07e-d0af-50b2-cdba-6fe39ff9f198"
      },
      "execution_count": null,
      "source": "#### Run the model",
      "outputs": [],
      "cell_type": "markdown"
    },
    {
      "source": "x_train = train.drop([\"id\", \"timestamp\", \"price_doc\", \"average_q_price\"], axis=1)\n#x_test = test.drop([\"id\", \"timestamp\", \"average_q_price\"], axis=1)\nx_test = test.drop([\"id\", \"timestamp\"], axis=1)\n\nnum_train = len(x_train)\nx_all = pd.concat([x_train, x_test])\n\nfor c in x_all.columns:\n    if x_all[c].dtype == 'object':\n        lbl = preprocessing.LabelEncoder()\n        lbl.fit(list(x_all[c].values))\n        x_all[c] = lbl.transform(list(x_all[c].values))\n\nx_train = x_all[:num_train]\nx_test = x_all[num_train:]\n\n\nxgb_params = {\n    'eta': 0.05,\n    'max_depth': 6,\n    'subsample': 0.6,\n    'colsample_bytree': 1,\n    'objective': 'reg:linear',\n    'eval_metric': 'rmse',\n    'silent': 1\n}\n\ndtrain = xgb.DMatrix(x_train, y_train)\ndtest = xgb.DMatrix(x_test)\n\n\nnum_boost_rounds = 422\nmodel = xgb.train(dict(xgb_params, silent=0), dtrain, num_boost_round=num_boost_rounds)\n\n\ny_predict = model.predict(dtest)\ngunja_output = pd.DataFrame({'id': id_test, 'price_doc': y_predict})",
      "metadata": {
        "_uuid": "b017892dc93b0e175e1b4321a1a3ee5a5bceb541",
        "_cell_guid": "be61bc1d-d52b-027a-c12a-f645e30a7eaf",
        "trusted": false
      },
      "execution_count": null,
      "outputs": [],
      "cell_type": "code"
    },
    {
      "metadata": {
        "_uuid": "50bad559196cdf508caf82c9a58c771d4b8fd868",
        "_cell_guid": "c4da3f7b-c13d-5f77-7c34-a8b8067d9c26"
      },
      "execution_count": null,
      "source": "## Second Model",
      "outputs": [],
      "cell_type": "markdown"
    },
    {
      "source": "train = pd.read_csv('../input/train.csv')\ntest = pd.read_csv('../input/test.csv')\nid_test = test.id\n\nmult = .969\n\ny_train = train[\"price_doc\"] * mult + 10\nx_train = train.drop([\"id\", \"timestamp\", \"price_doc\"], axis=1)\nx_test = test.drop([\"id\", \"timestamp\"], axis=1)\n\nfor c in x_train.columns:\n    if x_train[c].dtype == 'object':\n        lbl = preprocessing.LabelEncoder()\n        lbl.fit(list(x_train[c].values))\n        x_train[c] = lbl.transform(list(x_train[c].values))\n\nfor c in x_test.columns:\n    if x_test[c].dtype == 'object':\n        lbl = preprocessing.LabelEncoder()\n        lbl.fit(list(x_test[c].values))\n        x_test[c] = lbl.transform(list(x_test[c].values))\n\nxgb_params = {\n    'eta': 0.05,\n    'max_depth': 5,\n    'subsample': 0.7,\n    'colsample_bytree': 0.7,\n    'objective': 'reg:linear',\n    'eval_metric': 'rmse',\n    'silent': 1\n}\n\ndtrain = xgb.DMatrix(x_train, y_train)\ndtest = xgb.DMatrix(x_test)\n\nnum_boost_rounds = 385  # This was the CV output, as earlier version shows\nmodel = xgb.train(dict(xgb_params, silent=0), dtrain, num_boost_round= num_boost_rounds)\n\ny_predict = model.predict(dtest)\noutput = pd.DataFrame({'id': id_test, 'price_doc': y_predict})",
      "metadata": {
        "_uuid": "e41dcf563bb02d87cfc79f4b3ef473e1778022f1",
        "_cell_guid": "2b341c43-5ed0-0545-998a-8ce79d8d1ef5",
        "trusted": false
      },
      "execution_count": null,
      "outputs": [],
      "cell_type": "code"
    },
    {
      "metadata": {
        "_uuid": "1c3c60e56ee2d8d579d5809d89a60a5864e3b02c",
        "_cell_guid": "f3ae507c-ab77-dd11-efcb-64962a5d685d"
      },
      "execution_count": null,
      "source": "## Third Model",
      "outputs": [],
      "cell_type": "markdown"
    },
    {
      "source": "df_train = pd.read_csv(\"../input/train.csv\", parse_dates=['timestamp'])\ndf_test = pd.read_csv(\"../input/test.csv\", parse_dates=['timestamp'])\ndf_macro = pd.read_csv(\"../input/macro.csv\", parse_dates=['timestamp'])\n\ndf_train.drop(df_train[df_train[\"life_sq\"] > 7000].index, inplace=True)\n\nmult = 0.969\ny_train = df_train['price_doc'].values * mult + 10\nid_test = df_test['id']\n\ndf_train.drop(['id', 'price_doc'], axis=1, inplace=True)\ndf_test.drop(['id'], axis=1, inplace=True)\n\nnum_train = len(df_train)\ndf_all = pd.concat([df_train, df_test])\n# Next line just adds a lot of NA columns (becuase \"join\" only works on indexes)\n# but somewhow it seems to affect the result\ndf_all = df_all.join(df_macro, on='timestamp', rsuffix='_macro')\nprint(df_all.shape)\n\n# Add month-year\nmonth_year = (df_all.timestamp.dt.month + df_all.timestamp.dt.year * 100)\nmonth_year_cnt_map = month_year.value_counts().to_dict()\ndf_all['month_year_cnt'] = month_year.map(month_year_cnt_map)\n\n# Add week-year count\nweek_year = (df_all.timestamp.dt.weekofyear + df_all.timestamp.dt.year * 100)\nweek_year_cnt_map = week_year.value_counts().to_dict()\ndf_all['week_year_cnt'] = week_year.map(week_year_cnt_map)\n\n# Add month and day-of-week\ndf_all['month'] = df_all.timestamp.dt.month\ndf_all['dow'] = df_all.timestamp.dt.dayofweek\n\n# Other feature engineering\ndf_all['rel_floor'] = df_all['floor'] / df_all['max_floor'].astype(float)\ndf_all['rel_kitch_sq'] = df_all['kitch_sq'] / df_all['full_sq'].astype(float)\n\ntrain['building_name'] = pd.factorize(train.sub_area + train['metro_km_avto'].astype(str))[0]\ntest['building_name'] = pd.factorize(test.sub_area + test['metro_km_avto'].astype(str))[0]\n\ndef add_time_features(col):\n   col_month_year = pd.Series(pd.factorize(train[col].astype(str) + month_year.astype(str))[0])\n   train[col + '_month_year_cnt'] = col_month_year.map(col_month_year.value_counts())\n\n   col_week_year = pd.Series(pd.factorize(train[col].astype(str) + week_year.astype(str))[0])\n   train[col + '_week_year_cnt'] = col_week_year.map(col_week_year.value_counts())\n\nadd_time_features('building_name')\nadd_time_features('sub_area')\n\ndef add_time_features(col):\n   col_month_year = pd.Series(pd.factorize(test[col].astype(str) + month_year.astype(str))[0])\n   test[col + '_month_year_cnt'] = col_month_year.map(col_month_year.value_counts())\n\n   col_week_year = pd.Series(pd.factorize(test[col].astype(str) + week_year.astype(str))[0])\n   test[col + '_week_year_cnt'] = col_week_year.map(col_week_year.value_counts())\n\nadd_time_features('building_name')\nadd_time_features('sub_area')\n\n\n# Remove timestamp column (may overfit the model in train)\ndf_all.drop(['timestamp', 'timestamp_macro'], axis=1, inplace=True)\n\n\nfactorize = lambda t: pd.factorize(t[1])[0]\n\ndf_obj = df_all.select_dtypes(include=['object'])\n\nX_all = np.c_[\n    df_all.select_dtypes(exclude=['object']).values,\n    np.array(list(map(factorize, df_obj.iteritems()))).T\n]\nprint(X_all.shape)\n\nX_train = X_all[:num_train]\nX_test = X_all[num_train:]\n\n\n# Deal with categorical values\ndf_numeric = df_all.select_dtypes(exclude=['object'])\ndf_obj = df_all.select_dtypes(include=['object']).copy()\n\nfor c in df_obj:\n    df_obj[c] = pd.factorize(df_obj[c])[0]\n\ndf_values = pd.concat([df_numeric, df_obj], axis=1)\n\n\n# Convert to numpy values\nX_all = df_values.values\nprint(X_all.shape)\n\nX_train = X_all[:num_train]\nX_test = X_all[num_train:]\n\ndf_columns = df_values.columns\n\n\nxgb_params = {\n    'eta': 0.05,\n    'max_depth': 5,\n    'subsample': 0.7,\n    'colsample_bytree': 0.7,\n    'objective': 'reg:linear',\n    'eval_metric': 'rmse',\n    'silent': 1\n}\n\ndtrain = xgb.DMatrix(X_train, y_train, feature_names=df_columns)\ndtest = xgb.DMatrix(X_test, feature_names=df_columns)\n\nnum_boost_rounds = 420  # From Bruno's original CV, I think\nmodel = xgb.train(dict(xgb_params, silent=0), dtrain, num_boost_round=num_boost_rounds)\n\ny_pred = model.predict(dtest)\n\ndf_sub = pd.DataFrame({'id': id_test, 'price_doc': y_pred})\n",
      "metadata": {
        "_uuid": "a0a60e43c178699e209a384d509c6b5b540e4970",
        "_cell_guid": "92a75195-9b25-312f-e0a4-bf56ed75c651",
        "trusted": false
      },
      "execution_count": null,
      "outputs": [],
      "cell_type": "code"
    },
    {
      "metadata": {
        "_uuid": "fc6afa7d9f1d5ab04c30c28f4f4ed1058ff48e52",
        "_cell_guid": "f02cd689-765b-da92-0b88-39f99e5d4e2d"
      },
      "execution_count": null,
      "source": "## Combine",
      "outputs": [],
      "cell_type": "markdown"
    },
    {
      "source": "first_result = output.merge(df_sub, on=\"id\", suffixes=['_louis','_bruno'])\nfirst_result[\"price_doc\"] = np.exp( .714*np.log(first_result.price_doc_louis) +\n                                    .286*np.log(first_result.price_doc_bruno) ) \nresult = first_result.merge(gunja_output, on=\"id\", suffixes=['_follow','_gunja'])\n\nresult[\"price_doc\"] = np.exp( .78*np.log(result.price_doc_follow) +\n                              .22*np.log(result.price_doc_gunja) )\n                              \nresult[\"price_doc\"] =result[\"price_doc\"] *0.9915        \nresult.drop([\"price_doc_louis\",\"price_doc_bruno\",\"price_doc_follow\",\"price_doc_gunja\"],axis=1,inplace=True)\nresult.head()\nresult.to_csv('same_result.csv', index=False)",
      "metadata": {
        "_uuid": "7967568b4dad1225e904db4e50e418b24e92562c",
        "_cell_guid": "0501e839-8dc7-dbf4-6b20-bcb5ba08d88f",
        "trusted": false
      },
      "execution_count": null,
      "outputs": [],
      "cell_type": "code"
    },
    {
      "source": "",
      "metadata": {
        "_uuid": "1c913361017f3cec17e7fd4331865d4d28019210",
        "_cell_guid": "a1b89503-6a57-a932-0209-a6b3c621b4cc",
        "trusted": false
      },
      "execution_count": null,
      "outputs": [],
      "cell_type": "code"
    }
  ],
  "nbformat": 4,
  "nbformat_minor": 0
}